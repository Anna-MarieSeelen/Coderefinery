{
 "cells": [
  {
   "cell_type": "code",
   "execution_count": 1,
   "id": "292135a0",
   "metadata": {
    "ExecuteTime": {
     "end_time": "2024-02-28T09:39:35.964140200Z",
     "start_time": "2024-02-28T09:39:35.888361200Z"
    }
   },
   "outputs": [],
   "source": [
    "def convert_temperature(temperature, unit):\n",
    "    if unit == \"F\":\n",
    "        # Convert Fahrenheit to Celsius\n",
    "        celsius = (temperature - 32) * (5 / 9)\n",
    "        if celsius < -273.15:\n",
    "            # Invalid temperature, below absolute zero\n",
    "            return \"Invalid temperature\"\n",
    "        else:\n",
    "            # Convert Celsius to Kelvin\n",
    "            kelvin = celsius + 273.15\n",
    "            if kelvin < 0:\n",
    "                # Invalid temperature, below absolute zero\n",
    "                return \"Invalid temperature\"\n",
    "            else:\n",
    "                fahrenheit = (celsius * (9 / 5)) + 32\n",
    "                if fahrenheit < -459.67:\n",
    "                    # Invalid temperature, below absolute zero\n",
    "                    return \"Invalid temperature\"\n",
    "                else:\n",
    "                    return celsius, kelvin\n",
    "    elif unit == \"C\":\n",
    "        # Convert Celsius to Fahrenheit\n",
    "        fahrenheit = (temperature * (9 / 5)) + 32\n",
    "        if fahrenheit < -459.67:\n",
    "            # Invalid temperature, below absolute zero\n",
    "            return \"Invalid temperature\"\n",
    "        else:\n",
    "            # Convert Celsius to Kelvin\n",
    "            kelvin = temperature + 273.15\n",
    "            if kelvin < 0:\n",
    "                # Invalid temperature, below absolute zero\n",
    "                return \"Invalid temperature\"\n",
    "            else:\n",
    "                return fahrenheit, kelvin\n",
    "    elif unit == \"K\":\n",
    "        # Convert Kelvin to Celsius\n",
    "        celsius = temperature - 273.15\n",
    "        if celsius < -273.15:\n",
    "            # Invalid temperature, below absolute zero\n",
    "            return \"Invalid temperature\"\n",
    "        else:\n",
    "            # Convert Celsius to Fahrenheit\n",
    "            fahrenheit = (celsius * (9 / 5)) + 32\n",
    "            if fahrenheit < -459.67:\n",
    "                # Invalid temperature, below absolute zero\n",
    "                return \"Invalid temperature\"\n",
    "            else:\n",
    "                return celsius, fahrenheit\n",
    "    else:\n",
    "        return \"Invalid unit\""
   ]
  },
  {
   "cell_type": "code",
   "execution_count": 2,
   "id": "8f837d7a",
   "metadata": {
    "ExecuteTime": {
     "end_time": "2024-02-28T09:39:36.032098600Z",
     "start_time": "2024-02-28T09:39:35.929234900Z"
    }
   },
   "outputs": [
    {
     "name": "stdout",
     "output_type": "stream",
     "text": [
      "(77.0, 298.15)\n"
     ]
    }
   ],
   "source": [
    "test = convert_temperature(25, 'C')\n",
    "print(test)"
   ]
  },
  {
   "cell_type": "code",
   "execution_count": 13,
   "id": "43ad16d7",
   "metadata": {
    "ExecuteTime": {
     "end_time": "2024-02-28T10:18:03.641294700Z",
     "start_time": "2024-02-28T10:18:03.627812300Z"
    }
   },
   "outputs": [],
   "source": [
    "def check_validity_unit(unit):\n",
    "    if unit == 'F' :\n",
    "        return True\n",
    "    elif unit == 'K' :\n",
    "        return True\n",
    "    elif unit == 'C' :\n",
    "        return True\n",
    "    else :\n",
    "        return \"Invalid unit\"\n",
    "    \n",
    "def check_validity_temperature(temperature,unit):  \n",
    "    if unit == 'F' and temperature < -459.67 : \n",
    "        return True\n",
    "    elif unit == 'K' and temperature < 0 :\n",
    "        return True\n",
    "    elif unit == 'C' and temperature < -273.15 :\n",
    "        return True\n",
    "    else :\n",
    "        return \"Invalid temperature\"\n",
    "    \n",
    "def temperature_conversion_farenheit(temperature) :\n",
    "        # Convert Fahrenheit to Celsius\n",
    "        celsius = (temperature - 32) * (5 / 9)\n",
    "        # Check validity \n",
    "        check_validity_temperature(celsius,'C')\n",
    "        \n",
    "        # Convert Fahrenheit to Kelvin\n",
    "        kelvin = celsius + 273.15\n",
    "        # Check validity \n",
    "        check_validity_temperature(kelvin,'K')\n",
    "        \n",
    "        return celsius, kelvin\n",
    "\n",
    "def temperature_conversion_kelvin(temperature) :\n",
    "        \n",
    "        # Convert Kelvin to Celsius\n",
    "        celsius = temperature - 273.15\n",
    "        # Check validity \n",
    "        check_validity_temperature(celsius,'C')\n",
    "        \n",
    "        # Convert Kelvin to Fahrenheit\n",
    "        fahrenheit = temperature - 459.67\n",
    "        # Check validity \n",
    "        check_validity_temperature(fahrenheit,'F')\n",
    "        \n",
    "        return celsius, fahrenheit\n",
    "        \n",
    "def temperature_conversion_celsius(temperature) :  \n",
    "        # Convert Celsius to Fahrenheit\n",
    "        fahrenheit = (temperature * (9 / 5)) + 32\n",
    "        # Check validity \n",
    "        check_validity_temperature(fahrenheit,'F')\n",
    "        \n",
    "        # Convert Celsius to Kelvin\n",
    "        kelvin = temperature + 273.15\n",
    "        # Check validity \n",
    "        check_validity_temperature(kelvin,'K')\n",
    "        \n",
    "        return fahrenheit, kelvin\n"
   ]
  },
  {
   "cell_type": "code",
   "execution_count": 14,
   "id": "c5b7b9cd",
   "metadata": {
    "ExecuteTime": {
     "end_time": "2024-02-28T10:18:05.425125500Z",
     "start_time": "2024-02-28T10:18:05.420140600Z"
    }
   },
   "outputs": [],
   "source": [
    "def main(temperature,unit):\n",
    "    if check_validity_unit(unit):\n",
    "        if check_validity_temperature(temperature,unit):\n",
    "            if unit == 'F' :\n",
    "                temperature_conversion_farenheit(temperature)\n",
    "            elif unit == 'K' :\n",
    "                temperature_conversion_kelvin(temperature)\n",
    "            elif unit == 'C' :\n",
    "                temperature_conversion_celsius(temperature)"
   ]
  },
  {
   "cell_type": "code",
   "execution_count": 15,
   "id": "ffa58914",
   "metadata": {
    "ExecuteTime": {
     "end_time": "2024-02-28T10:18:06.207161100Z",
     "start_time": "2024-02-28T10:18:06.202179100Z"
    }
   },
   "outputs": [
    {
     "name": "stdout",
     "output_type": "stream",
     "text": [
      "None\n"
     ]
    }
   ],
   "source": [
    "test = main(25, 'C')\n",
    "print(test)"
   ]
  },
  {
   "cell_type": "code",
   "outputs": [],
   "source": [],
   "metadata": {
    "collapsed": false
   },
   "id": "bec20827437cb02d"
  }
 ],
 "metadata": {
  "kernelspec": {
   "display_name": "Python 3 (ipykernel)",
   "language": "python",
   "name": "python3"
  },
  "language_info": {
   "codemirror_mode": {
    "name": "ipython",
    "version": 3
   },
   "file_extension": ".py",
   "mimetype": "text/x-python",
   "name": "python",
   "nbconvert_exporter": "python",
   "pygments_lexer": "ipython3",
   "version": "3.11.5"
  }
 },
 "nbformat": 4,
 "nbformat_minor": 5
}
