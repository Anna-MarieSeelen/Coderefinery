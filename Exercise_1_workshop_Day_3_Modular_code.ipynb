{
 "cells": [
  {
   "cell_type": "code",
   "execution_count": 1,
   "id": "292135a0",
   "metadata": {
    "ExecuteTime": {
     "end_time": "2024-02-28T09:39:35.964140200Z",
     "start_time": "2024-02-28T09:39:35.888361200Z"
    }
   },
   "outputs": [],
   "source": [
    "def convert_temperature(temperature, unit):\n",
    "    if unit == \"F\":\n",
    "        # Convert Fahrenheit to Celsius\n",
    "        celsius = (temperature - 32) * (5 / 9)\n",
    "        if celsius < -273.15:\n",
    "            # Invalid temperature, below absolute zero\n",
    "            return \"Invalid temperature\"\n",
    "        else:\n",
    "            # Convert Celsius to Kelvin\n",
    "            kelvin = celsius + 273.15\n",
    "            if kelvin < 0:\n",
    "                # Invalid temperature, below absolute zero\n",
    "                return \"Invalid temperature\"\n",
    "            else:\n",
    "                fahrenheit = (celsius * (9 / 5)) + 32\n",
    "                if fahrenheit < -459.67:\n",
    "                    # Invalid temperature, below absolute zero\n",
    "                    return \"Invalid temperature\"\n",
    "                else:\n",
    "                    return celsius, kelvin\n",
    "    elif unit == \"C\":\n",
    "        # Convert Celsius to Fahrenheit\n",
    "        fahrenheit = (temperature * (9 / 5)) + 32\n",
    "        if fahrenheit < -459.67:\n",
    "            # Invalid temperature, below absolute zero\n",
    "            return \"Invalid temperature\"\n",
    "        else:\n",
    "            # Convert Celsius to Kelvin\n",
    "            kelvin = temperature + 273.15\n",
    "            if kelvin < 0:\n",
    "                # Invalid temperature, below absolute zero\n",
    "                return \"Invalid temperature\"\n",
    "            else:\n",
    "                return fahrenheit, kelvin\n",
    "    elif unit == \"K\":\n",
    "        # Convert Kelvin to Celsius\n",
    "        celsius = temperature - 273.15\n",
    "        if celsius < -273.15:\n",
    "            # Invalid temperature, below absolute zero\n",
    "            return \"Invalid temperature\"\n",
    "        else:\n",
    "            # Convert Celsius to Fahrenheit\n",
    "            fahrenheit = (celsius * (9 / 5)) + 32\n",
    "            if fahrenheit < -459.67:\n",
    "                # Invalid temperature, below absolute zero\n",
    "                return \"Invalid temperature\"\n",
    "            else:\n",
    "                return celsius, fahrenheit\n",
    "    else:\n",
    "        return \"Invalid unit\""
   ]
  },
  {
   "cell_type": "code",
   "execution_count": 2,
   "id": "8f837d7a",
   "metadata": {
    "ExecuteTime": {
     "end_time": "2024-02-28T09:39:36.032098600Z",
     "start_time": "2024-02-28T09:39:35.929234900Z"
    }
   },
   "outputs": [
    {
     "name": "stdout",
     "output_type": "stream",
     "text": [
      "(77.0, 298.15)\n"
     ]
    }
   ],
   "source": [
    "test = convert_temperature(25, 'C')\n",
    "print(test)"
   ]
  },
  {
   "cell_type": "code",
   "execution_count": 3,
   "id": "43ad16d7",
   "metadata": {
    "ExecuteTime": {
     "end_time": "2024-02-28T09:51:50.785764Z",
     "start_time": "2024-02-28T09:51:50.746836200Z"
    }
   },
   "outputs": [],
   "source": [
    "def check_validity_unit(unit):\n",
    "    if unit == 'F' :\n",
    "        return TRUE\n",
    "    elif unit == 'K' :\n",
    "        return TRUE\n",
    "    elif unit == 'C' :\n",
    "        return TRUE\n",
    "    else :\n",
    "        return \"Invalid unit\"\n",
    "    \n",
    "def check_validity_temperature(temperature,unit):  \n",
    "    if unit == 'F' and temperature < -459.67 : \n",
    "        return TRUE\n",
    "    elif unit == 'K' and temperature < 0 :\n",
    "        return TRUE\n",
    "    elif unit == 'C' and temperature < -273.15 :\n",
    "        return TRUE\n",
    "    else :\n",
    "        return \"Invalid temperature\"\n",
    "    \n",
    "def temperature_conversion_farenheit(temperature) :\n",
    "        # Convert Fahrenheit to Celsius\n",
    "        celsius = (temperature - 32) * (5 / 9)\n",
    "        # Check validity \n",
    "        check_validity_temperature(celsius,'C')\n",
    "        \n",
    "        # Convert Fahrenheit to Kelvin\n",
    "        kelvin = celsius + 273.15\n",
    "        # Check validity \n",
    "        check_validity_temperature(kelvin,'K')\n",
    "        \n",
    "        return celsius, kelvin\n",
    "\n",
    "def temperature_conversion_kelvin(temperature) :\n",
    "        \n",
    "        # Convert Kelvin to Celsius\n",
    "        celsius = temperature - 273.15\n",
    "        # Check validity \n",
    "        check_validity_temperature(celsius,'C')\n",
    "        \n",
    "        # Convert Kelvin to Fahrenheit\n",
    "        fahrenheit = temperature - 459.67\n",
    "        # Check validity \n",
    "        check_validity_temperature(fahrenheit,'F')\n",
    "        \n",
    "        return celsius, fahrenheit\n",
    "        \n",
    "def temperature_conversion_celsius(temperature) :  \n",
    "        # Convert Celsius to Fahrenheit\n",
    "        fahrenheit = (temperature * (9 / 5)) + 32\n",
    "        # Check validity \n",
    "        check_validity_temperature(fahrenheit,'F')\n",
    "        \n",
    "        # Convert Celsius to Kelvin\n",
    "        kelvin = temperature + 273.15\n",
    "        # Check validity \n",
    "        check_validity_temperature(kelvin,'K')\n",
    "        \n",
    "        return fahrenheit, kelvin\n"
   ]
  },
  {
   "cell_type": "code",
   "execution_count": 6,
   "id": "c5b7b9cd",
   "metadata": {
    "ExecuteTime": {
     "end_time": "2024-02-28T09:53:23.154954500Z",
     "start_time": "2024-02-28T09:53:23.115070500Z"
    }
   },
   "outputs": [],
   "source": [
    "def main(temperature,unit):\n",
    "    if check_validity_temperature(temperature,unit) and check_validity_unit(unit):\n",
    "        if unit == 'F' :\n",
    "            temperature_conversion_farenheit(temperature)\n",
    "        elif unit == 'K' :\n",
    "            temperature_conversion_kelvin(temperature)\n",
    "        elif unit == 'C' :\n",
    "            temperature_conversion_celsius(temperature)"
   ]
  },
  {
   "cell_type": "code",
   "execution_count": 7,
   "id": "ffa58914",
   "metadata": {
    "ExecuteTime": {
     "end_time": "2024-02-28T09:53:25.003005500Z",
     "start_time": "2024-02-28T09:53:24.887758200Z"
    }
   },
   "outputs": [
    {
     "ename": "NameError",
     "evalue": "name 'TRUE' is not defined",
     "output_type": "error",
     "traceback": [
      "\u001B[1;31m---------------------------------------------------------------------------\u001B[0m",
      "\u001B[1;31mNameError\u001B[0m                                 Traceback (most recent call last)",
      "Cell \u001B[1;32mIn[7], line 1\u001B[0m\n\u001B[1;32m----> 1\u001B[0m test \u001B[38;5;241m=\u001B[39m \u001B[43mmain\u001B[49m\u001B[43m(\u001B[49m\u001B[38;5;241;43m25\u001B[39;49m\u001B[43m,\u001B[49m\u001B[43m \u001B[49m\u001B[38;5;124;43m'\u001B[39;49m\u001B[38;5;124;43mC\u001B[39;49m\u001B[38;5;124;43m'\u001B[39;49m\u001B[43m)\u001B[49m\n\u001B[0;32m      2\u001B[0m \u001B[38;5;28mprint\u001B[39m(test)\n",
      "Cell \u001B[1;32mIn[6], line 2\u001B[0m, in \u001B[0;36mmain\u001B[1;34m(temperature, unit)\u001B[0m\n\u001B[0;32m      1\u001B[0m \u001B[38;5;28;01mdef\u001B[39;00m \u001B[38;5;21mmain\u001B[39m(temperature,unit):\n\u001B[1;32m----> 2\u001B[0m     \u001B[38;5;28;01mif\u001B[39;00m check_validity_temperature(temperature,unit) \u001B[38;5;129;01mand\u001B[39;00m \u001B[43mcheck_validity_unit\u001B[49m\u001B[43m(\u001B[49m\u001B[43munit\u001B[49m\u001B[43m)\u001B[49m:\n\u001B[0;32m      3\u001B[0m         \u001B[38;5;28;01mif\u001B[39;00m unit \u001B[38;5;241m==\u001B[39m \u001B[38;5;124m'\u001B[39m\u001B[38;5;124mF\u001B[39m\u001B[38;5;124m'\u001B[39m :\n\u001B[0;32m      4\u001B[0m             temperature_conversion_farenheit(temperature)\n",
      "Cell \u001B[1;32mIn[3], line 7\u001B[0m, in \u001B[0;36mcheck_validity_unit\u001B[1;34m(unit)\u001B[0m\n\u001B[0;32m      5\u001B[0m     \u001B[38;5;28;01mreturn\u001B[39;00m TRUE\n\u001B[0;32m      6\u001B[0m \u001B[38;5;28;01melif\u001B[39;00m unit \u001B[38;5;241m==\u001B[39m \u001B[38;5;124m'\u001B[39m\u001B[38;5;124mC\u001B[39m\u001B[38;5;124m'\u001B[39m :\n\u001B[1;32m----> 7\u001B[0m     \u001B[38;5;28;01mreturn\u001B[39;00m \u001B[43mTRUE\u001B[49m\n\u001B[0;32m      8\u001B[0m \u001B[38;5;28;01melse\u001B[39;00m :\n\u001B[0;32m      9\u001B[0m     \u001B[38;5;28;01mreturn\u001B[39;00m \u001B[38;5;124m\"\u001B[39m\u001B[38;5;124mInvalid unit\u001B[39m\u001B[38;5;124m\"\u001B[39m\n",
      "\u001B[1;31mNameError\u001B[0m: name 'TRUE' is not defined"
     ]
    }
   ],
   "source": [
    "test = main(25, 'C')\n",
    "print(test)"
   ]
  },
  {
   "cell_type": "code",
   "outputs": [],
   "source": [],
   "metadata": {
    "collapsed": false
   },
   "id": "bec20827437cb02d"
  }
 ],
 "metadata": {
  "kernelspec": {
   "display_name": "Python 3 (ipykernel)",
   "language": "python",
   "name": "python3"
  },
  "language_info": {
   "codemirror_mode": {
    "name": "ipython",
    "version": 3
   },
   "file_extension": ".py",
   "mimetype": "text/x-python",
   "name": "python",
   "nbconvert_exporter": "python",
   "pygments_lexer": "ipython3",
   "version": "3.11.5"
  }
 },
 "nbformat": 4,
 "nbformat_minor": 5
}
